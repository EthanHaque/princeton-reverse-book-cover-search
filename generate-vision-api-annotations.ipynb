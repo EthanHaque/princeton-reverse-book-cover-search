{
 "cells": [
  {
   "cell_type": "markdown",
   "metadata": {},
   "source": [
    "## Generating Annotations for Images\n",
    "\n",
    "Uses the Google Cloud Vision API to generate annotations about what the content of the images are and visually simliar images."
   ]
  },
  {
   "cell_type": "code",
   "execution_count": null,
   "metadata": {},
   "outputs": [],
   "source": [
    "import io\n",
    "import os\n",
    "import json\n",
    "import queue\n",
    "\n",
    "from google.cloud import vision\n",
    "from tqdm.notebook import tqdm\n",
    "from concurrent.futures import ThreadPoolExecutor"
   ]
  },
  {
   "cell_type": "code",
   "execution_count": null,
   "metadata": {
    "pycharm": {
     "name": "#%%\n"
    }
   },
   "outputs": [],
   "source": [
    "# Setting the API keys.\n",
    "%env GOOGLE_APPLICATION_CREDENTIALS=C:\\Users\\Ethan\\Desktop\\repos\\princeton-reverse-book-cover-search\\api-keys\\princeton-reverse-book-cover-5c6099bda6ff.json"
   ]
  },
  {
   "cell_type": "code",
   "execution_count": null,
   "metadata": {
    "pycharm": {
     "name": "#%%\n"
    }
   },
   "outputs": [],
   "source": [
    "def annotate(path):\n",
    "    \"\"\"Returns web annotations given the path to an image.\n",
    "    \n",
    "    Uses Google Vision API to derive information about a\n",
    "    given image from similar images on the web.\n",
    "    \n",
    "    Parameters\n",
    "    ----------\n",
    "    \n",
    "    path : str\n",
    "        Path to a file. Can be uri or filepath.\n",
    "    \n",
    "    \"\"\"\n",
    "    client = vision.ImageAnnotatorClient()\n",
    "\n",
    "    if path.startswith(\"http\") or path.startswith(\"gs:\"):\n",
    "        image = vision.Image()\n",
    "        image.source.image_uri = path\n",
    "\n",
    "    else:\n",
    "        with io.open(path, \"rb\") as image_file:\n",
    "            content = image_file.read()\n",
    "\n",
    "        image = vision.Image(content=content)\n",
    "    \n",
    "    # FIXME: probably better to replace this with a batch request, but this is fine.\n",
    "    web_detection = client.web_detection(image=image).web_detection\n",
    "\n",
    "    return web_detection"
   ]
  },
  {
   "cell_type": "code",
   "execution_count": null,
   "metadata": {
    "pycharm": {
     "name": "#%%\n"
    }
   },
   "outputs": [],
   "source": [
    "class BookCover:\n",
    "    def __init__(self, image_url):\n",
    "        self.image_file_name = os.path.basename(image_url)\n",
    "        self.annotations = annotate(image_url)\n",
    "\n",
    "    def __dict__(self):\n",
    "        response_data_string = \"{\" + str(self.annotations) + \"}\"\n",
    "        \n",
    "        return {\n",
    "            \"image_name\": self.image_file_name,\n",
    "            \"response\": dict(self.annotations),\n",
    "        }\n",
    "\n",
    "    def __str__(self):\n",
    "        return json.dumps(self.__dict__())\n",
    "\n",
    "    def __repr__(self):\n",
    "        return json.dumps(self.__dict__())"
   ]
  },
  {
   "cell_type": "markdown",
   "metadata": {},
   "source": [
    "#### Calling API on Each Image\n",
    "Getting data for each image and storing it in a `BookCover` object, which just contains the filename and API reponse."
   ]
  },
  {
   "cell_type": "code",
   "execution_count": null,
   "metadata": {
    "pycharm": {
     "name": "#%%\n"
    }
   },
   "outputs": [],
   "source": [
    "IMAGES_DIR = r\"./data/all-book-set/covers\"\n",
    "images = os.listdir(IMAGES_DIR)[:5]\n",
    "results = queue.Queue()\n",
    "with (tqdm(total=len(images))) as pbar:\n",
    "    with ThreadPoolExecutor(max_workers=16) as executor:\n",
    "        for _ in executor.map(BookCover, [f'{IMAGES_DIR}/{image}' for image in images]):\n",
    "            results.put(_)\n",
    "            pbar.update(1)"
   ]
  },
  {
   "cell_type": "markdown",
   "metadata": {},
   "source": [
    "#### Writing all Responses to File\n",
    "Writing all the gathered data to an output file."
   ]
  },
  {
   "cell_type": "code",
   "execution_count": null,
   "metadata": {
    "pycharm": {
     "name": "#%%\n"
    }
   },
   "outputs": [],
   "source": [
    "responses = []\n",
    "while not results.empty():\n",
    "    responses.append(results.get())"
   ]
  },
  {
   "cell_type": "code",
   "execution_count": null,
   "metadata": {
    "scrolled": true
   },
   "outputs": [],
   "source": [
    "book_cover_data = {\"data\": [book_cover.__dict__() for book_cover in responses]}\n",
    "book_cover_data"
   ]
  },
  {
   "cell_type": "code",
   "execution_count": null,
   "metadata": {
    "scrolled": true
   },
   "outputs": [],
   "source": [
    "OUTPUT_DIR = r\"./data/all-book-set\"\n",
    "FILE_NAME = r\"book_covers.json\"\n",
    "print(\"Writing to file...\")\n",
    "with open(f\"{OUTPUT_DIR}/{FILE_NAME}\", \"w\", encoding=\"utf-8\") as outfile:\n",
    "    # certain book titles have unicode characters in them, so we need to encode them as utf-8\n",
    "    json.dump(book_cover_data, outfile, ensure_ascii=False, indent=4)\n",
    "print(\"Done!\")"
   ]
  }
 ],
 "metadata": {
  "kernelspec": {
   "display_name": "Python [conda env:princeton-reverse-book-cover-search]",
   "language": "python",
   "name": "conda-env-princeton-reverse-book-cover-search-py"
  },
  "language_info": {
   "codemirror_mode": {
    "name": "ipython",
    "version": 3
   },
   "file_extension": ".py",
   "mimetype": "text/x-python",
   "name": "python",
   "nbconvert_exporter": "python",
   "pygments_lexer": "ipython3",
   "version": "3.9.12"
  }
 },
 "nbformat": 4,
 "nbformat_minor": 1
}
