{
 "cells": [
  {
   "cell_type": "code",
   "execution_count": 163,
   "metadata": {
    "collapsed": true
   },
   "outputs": [],
   "source": [
    "import io\n",
    "import os\n",
    "import json\n",
    "import queue\n",
    "\n",
    "from google.cloud import vision\n",
    "from tqdm.notebook import tqdm\n",
    "from concurrent.futures import ThreadPoolExecutor"
   ]
  },
  {
   "cell_type": "code",
   "execution_count": 164,
   "outputs": [
    {
     "name": "stdout",
     "output_type": "stream",
     "text": [
      "env: GOOGLE_APPLICATION_CREDENTIALS=C:\\Users\\Ethan\\Desktop\\repos\\princeton-reverse-book-cover-search\\api-keys\\princeton-reverse-book-cover-5c6099bda6ff.json\n"
     ]
    }
   ],
   "source": [
    "%env GOOGLE_APPLICATION_CREDENTIALS=C:\\Users\\Ethan\\Desktop\\repos\\princeton-reverse-book-cover-search\\api-keys\\princeton-reverse-book-cover-5c6099bda6ff.json"
   ],
   "metadata": {
    "collapsed": false,
    "pycharm": {
     "name": "#%%\n"
    }
   }
  },
  {
   "cell_type": "code",
   "execution_count": 165,
   "outputs": [],
   "source": [
    "def annotate(path):\n",
    "    \"\"\"Returns web annotations given the path to an image.\"\"\"\n",
    "    client = vision.ImageAnnotatorClient()\n",
    "\n",
    "    if path.startswith('http') or path.startswith('gs:'):\n",
    "        image = vision.Image()\n",
    "        image.source.image_uri = path\n",
    "\n",
    "    else:\n",
    "        with io.open(path, 'rb') as image_file:\n",
    "            content = image_file.read()\n",
    "\n",
    "        image = vision.Image(content=content)\n",
    "\n",
    "    web_detection = client.web_detection(image=image).web_detection\n",
    "\n",
    "    return web_detection"
   ],
   "metadata": {
    "collapsed": false,
    "pycharm": {
     "name": "#%%\n"
    }
   }
  },
  {
   "cell_type": "code",
   "execution_count": 166,
   "outputs": [],
   "source": [
    "class BookCover:\n",
    "    def __init__(self, image_url):\n",
    "        self.image_file_name = os.path.basename(image_url)\n",
    "        self.annotations = annotate(image_url)\n",
    "\n",
    "    def __dict__(self):\n",
    "        custom_annotations = {\n",
    "            'pages_with_matching_images': [page.url for page in self.annotations.pages_with_matching_images],\n",
    "            'full_matching_images': [image.url for image in self.annotations.full_matching_images],\n",
    "            'partial_matching_images': [image.url for image in self.annotations.partial_matching_images],\n",
    "            'web_entities': [{'score': entity.score, 'description': entity.description} for entity in\n",
    "                             self.annotations.web_entities]}\n",
    "        return {\n",
    "            'image_name': self.image_file_name,\n",
    "            'custom_annotations': custom_annotations,\n",
    "        }\n",
    "\n",
    "    def __str__(self):\n",
    "        return json.dumps(self.__dict__())\n",
    "\n",
    "    def __repr__(self):\n",
    "        return json.dumps(self.__dict__())"
   ],
   "metadata": {
    "collapsed": false,
    "pycharm": {
     "name": "#%%\n"
    }
   }
  },
  {
   "cell_type": "code",
   "execution_count": 167,
   "outputs": [
    {
     "data": {
      "text/plain": "  0%|          | 0/480 [00:00<?, ?it/s]",
      "application/vnd.jupyter.widget-view+json": {
       "version_major": 2,
       "version_minor": 0,
       "model_id": "d97b3f81b36e4424bb9df5672e896cd2"
      }
     },
     "metadata": {},
     "output_type": "display_data"
    }
   ],
   "source": [
    "# probably better to replace this with a batch request, but this is fine for now\n",
    "images = os.listdir(r'./data/book-test-set/book')\n",
    "results = queue.Queue()\n",
    "with (tqdm(total=len(images))) as pbar:\n",
    "    with ThreadPoolExecutor(max_workers=8) as executor:\n",
    "        for _ in executor.map(BookCover, [f'./data/book-test-set/book/{image}' for image in images]):\n",
    "            results.put(_)\n",
    "            pbar.update(1)"
   ],
   "metadata": {
    "collapsed": false,
    "pycharm": {
     "name": "#%%\n"
    }
   }
  },
  {
   "cell_type": "code",
   "execution_count": 168,
   "outputs": [
    {
     "name": "stdout",
     "output_type": "stream",
     "text": [
      "Writing to file...\n",
      "Done!\n"
     ]
    }
   ],
   "source": [
    "book_covers = {'book_covers': [book_cover.__dict__() for book_cover in [results.get() for _ in range(results.qsize())]]}\n",
    "print('Writing to file...')\n",
    "with open(r'./data/book-test-set/book_covers.json', 'w', encoding='utf-8') as outfile:\n",
    "    # certain book titles have unicode characters in them, so we need to encode them as utf-8\n",
    "    json.dump(book_covers, outfile, ensure_ascii=False, indent=4)\n",
    "print('Done!')\n"
   ],
   "metadata": {
    "collapsed": false,
    "pycharm": {
     "name": "#%%\n"
    }
   }
  }
 ],
 "metadata": {
  "kernelspec": {
   "display_name": "Python 3",
   "language": "python",
   "name": "python3"
  },
  "language_info": {
   "codemirror_mode": {
    "name": "ipython",
    "version": 2
   },
   "file_extension": ".py",
   "mimetype": "text/x-python",
   "name": "python",
   "nbconvert_exporter": "python",
   "pygments_lexer": "ipython2",
   "version": "2.7.6"
  }
 },
 "nbformat": 4,
 "nbformat_minor": 0
}